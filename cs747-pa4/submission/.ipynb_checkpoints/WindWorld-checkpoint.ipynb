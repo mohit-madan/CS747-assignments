{
 "cells": [
  {
   "cell_type": "code",
   "execution_count": 1,
   "metadata": {},
   "outputs": [],
   "source": [
    "import sys\n",
    "import os\n",
    "import numpy as np\n",
    "import matplotlib.pyplot as plt"
   ]
  },
  {
   "cell_type": "code",
   "execution_count": 2,
   "metadata": {},
   "outputs": [],
   "source": [
    "class WindWorld:\n",
    "    def __init__(self, rows, columns, wind,source, destination):\n",
    "        self.rows = rows\n",
    "        self.columns = columns\n",
    "        self.wind = wind\n",
    "        self.start = source\n",
    "        self.destination = destination\n",
    "        \n",
    "class Agent:\n",
    "    def __init__(self, world, alpha, epsilon, kingsMoves=False, stochastic = False):\n",
    "        self.world = world\n",
    "        self.alpha = alpha\n",
    "        self.epsilon = epsilon\n",
    "        if(kingsMoves):\n",
    "            self.num_actions = 8\n",
    "        else:\n",
    "            self.num_actions = 4\n",
    "        self.stochastic = stochastic\n",
    "        self.Q = np.zeros((world.rows, world.columns, self.num_actions)) #initializing Q values with zero\n",
    "\n",
    "    def getNextS(self,currS, a, world):\n",
    "        if(self.stochastic):\n",
    "            x = np.random.randint(3)\n",
    "            if(x==0):\n",
    "                wind = world.wind\n",
    "            elif(x==1):\n",
    "                wind = [i-1 for i in world.wind]\n",
    "            else:\n",
    "                wind = [i+1 for i in world.wind]\n",
    "            \n",
    "        else:\n",
    "            wind = world.wind\n",
    "        i,j = currS\n",
    "        if(a==0): # go up\n",
    "            nextS = np.array([i-1-wind[j],j]) # decrease the row\n",
    "            \n",
    "        elif(a==1): # go down\n",
    "            nextS = np.array([i+1-wind[j],j]) # decrease the row\n",
    "                \n",
    "        elif(a==2): # go right\n",
    "            nextS = np.array([i-wind[j],j+1]) # increase the column and subtract the wind\n",
    "            \n",
    "        else: # go left\n",
    "            if(a==3):\n",
    "                nextS = np.array([i-wind[j],j-1]) # decrease the columns and subtract the wind\n",
    "            \n",
    "            else:\n",
    "                if(self.num_actions==8):\n",
    "                    if(a==4): # top right\n",
    "                        nextS = np.array([i-1-wind[j],j+1])\n",
    "                    \n",
    "                    elif(a==5): # top left\n",
    "                        nextS = np.array([i-1-wind[j],j-1])\n",
    "                        \n",
    "                    elif(a==6): # bottom right\n",
    "                        nextS = np.array([i+1-wind[j],j+1])\n",
    "                        \n",
    "                    else: # bottom left\n",
    "                        nextS = np.array([i+1-wind[j],j-1])\n",
    "            \n",
    "        # check whether it lies within the boundaries of the world\n",
    "        if nextS[0] < 0:\n",
    "            nextS[0] = 0\n",
    "        if nextS[0] >= world.rows:\n",
    "            nextS[0] = world.rows - 1 \n",
    "            \n",
    "        if nextS[1] < 0:\n",
    "            nextS[1] = 0\n",
    "        if nextS[1] >= world.columns:\n",
    "            nextS[1] = world.columns - 1\n",
    "        \n",
    "        return nextS\n",
    "    \n",
    "    def qEstimationTD0(self, S,num_episodes):\n",
    "        num_steps = []\n",
    "        Q = self.Q\n",
    "        \n",
    "        for episode in range(num_episodes):\n",
    "            steps = 0\n",
    "            currS = S\n",
    "            if(np.random.rand() > self.epsilon):\n",
    "                currA = np.argmax(Q[currS[0],currS[1]]) # take a greedy action\n",
    "            else:\n",
    "                currA = np.random.randint(0,self.num_actions) # take a random action\n",
    "                \n",
    "            while(1):\n",
    "                steps+=1\n",
    "                nextS = self.getNextS(currS, currA, self.world)\n",
    "                if(nextS[0]!=self.world.destination[0] or nextS[1]!=self.world.destination[1]): # rewards\n",
    "                    r = -1\n",
    "                else:\n",
    "                    r = 0\n",
    "\n",
    "                \n",
    "                if(np.random.rand() > self.epsilon):\n",
    "                    nextA = np.argmax(Q[nextS[0],nextS[1]])\n",
    "                else:\n",
    "                    nextA = np.random.randint(0,self.num_actions) # take a random action\n",
    "\n",
    "                Q[currS[0],currS[1], currA] += self.alpha * (r + Q[nextS[0],nextS[1], nextA]\\\n",
    "                                                             - Q[currS[0],currS[1], currA])\n",
    "                currS = nextS\n",
    "                currA = nextA\n",
    "\n",
    "                if r == 0:\n",
    "                    break\n",
    "            num_steps.append(steps)\n",
    "            \n",
    "        y = [i for i in range(len(num_steps))]\n",
    "        return num_steps,y"
   ]
  },
  {
   "cell_type": "code",
   "execution_count": 3,
   "metadata": {},
   "outputs": [],
   "source": [
    "# make number of columns equal to the number of elements in the wind\n",
    "# defining the environment and the agent\n",
    "np.random.seed(1)\n",
    "rows = 7\n",
    "columns = 10\n",
    "wind = np.array([0,0,0,1,1,1,2,2,1,0]) # wind has to be subtracted according to the convention\n",
    "source = np.array([3,0])\n",
    "destination = np.array([3,7])\n",
    "epsilon = 0.01\n",
    "alpha = 0.5\n",
    "num_episodes  = 170\n",
    "myWorld = WindWorld(rows, columns, wind, source, destination)\n",
    "kingsMoves = False\n",
    "stochastic = True\n",
    "myAgent = Agent(myWorld, alpha, epsilon,kingsMoves, stochastic) # number of actions should be 8 case of kings moves\n",
    "time_steps, episodes = myAgent.qEstimationTD0(source,num_episodes)"
   ]
  },
  {
   "cell_type": "code",
   "execution_count": 5,
   "metadata": {
    "scrolled": true
   },
   "outputs": [
    {
     "data": {
      "image/png": "[encoded data removed]",
      "text/plain": [
       "<Figure size 432x288 with 1 Axes>"
      ]
     },
     "metadata": {
      "needs_background": "light"
     },
     "output_type": "display_data"
    }
   ],
   "source": [
    "plt.plot(time_steps)\n",
    "plt.ylabel('Episodes')\n",
    "plt.xlabel('Time Steps')\n",
    "plt.grid()\n",
    "plt.show()"
   ]
  },
  {
   "cell_type": "code",
   "execution_count": null,
   "metadata": {},
   "outputs": [],
   "source": []
  }
 ],
 "metadata": {
  "kernelspec": {
   "display_name": "Python 3",
   "language": "python",
   "name": "python3"
  },
  "language_info": {
   "codemirror_mode": {
    "name": "ipython",
    "version": 3
   },
   "file_extension": ".py",
   "mimetype": "text/x-python",
   "name": "python",
   "nbconvert_exporter": "python",
   "pygments_lexer": "ipython3",
   "version": "3.6.8"
  }
 },
 "nbformat": 4,
 "nbformat_minor": 2
}
